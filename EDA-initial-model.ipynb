{
 "cells": [
  {
   "cell_type": "markdown",
   "id": "a9cff3dc-3c2b-4370-be3b-33ecb0c5d0e2",
   "metadata": {},
   "source": [
    "# News Categorizers Scratch work"
   ]
  },
  {
   "cell_type": "code",
   "execution_count": 81,
   "id": "f9344b51-0f25-4121-a1ce-3ca1a2219d3f",
   "metadata": {},
   "outputs": [],
   "source": [
    "# Imports \n",
    "import string\n",
    "import numpy as np\n",
    "import pandas as pd\n",
    "\n",
    "import nltk\n",
    "# nltk.download('punkt')\n",
    "from nltk.stem.porter import *\n",
    "\n",
    "from vaderSentiment.vaderSentiment import SentimentIntensityAnalyzer\n",
    "\n",
    "import sklearn\n",
    "from sklearn.model_selection import train_test_split, RandomizedSearchCV\n",
    "from sklearn.feature_extraction.text import TfidfTransformer\n",
    "from sklearn.feature_extraction.text import CountVectorizer\n",
    "\n",
    "from sklearn.base import BaseEstimator\n",
    "from sklearn.pipeline import Pipeline\n",
    "\n",
    "from sklearn.naive_bayes import MultinomialNB\n",
    "from sklearn.tree import DecisionTreeClassifier\n",
    "from sklearn.linear_model import LogisticRegression\n",
    "\n",
    "import seaborn as sns\n",
    "import matplotlib.pyplot as plt\n",
    "%matplotlib inline"
   ]
  },
  {
   "cell_type": "markdown",
   "id": "d700ff70-0d33-49fe-9eb2-aa3b89161c85",
   "metadata": {},
   "source": [
    "## Dataset creation and Exploratory Data Analysis"
   ]
  },
  {
   "cell_type": "code",
   "execution_count": 82,
   "id": "aaf0e623-bb98-4f2e-bea9-a253f2911c84",
   "metadata": {},
   "outputs": [
    {
     "data": {
      "text/html": [
       "<div>\n",
       "<style scoped>\n",
       "    .dataframe tbody tr th:only-of-type {\n",
       "        vertical-align: middle;\n",
       "    }\n",
       "\n",
       "    .dataframe tbody tr th {\n",
       "        vertical-align: top;\n",
       "    }\n",
       "\n",
       "    .dataframe thead th {\n",
       "        text-align: right;\n",
       "    }\n",
       "</style>\n",
       "<table border=\"1\" class=\"dataframe\">\n",
       "  <thead>\n",
       "    <tr style=\"text-align: right;\">\n",
       "      <th></th>\n",
       "      <th>category</th>\n",
       "      <th>headline</th>\n",
       "      <th>authors</th>\n",
       "      <th>link</th>\n",
       "      <th>short_description</th>\n",
       "      <th>date</th>\n",
       "    </tr>\n",
       "  </thead>\n",
       "  <tbody>\n",
       "    <tr>\n",
       "      <th>0</th>\n",
       "      <td>CRIME</td>\n",
       "      <td>There Were 2 Mass Shootings In Texas Last Week...</td>\n",
       "      <td>Melissa Jeltsen</td>\n",
       "      <td>https://www.huffingtonpost.com/entry/texas-ama...</td>\n",
       "      <td>She left her husband. He killed their children...</td>\n",
       "      <td>2018-05-26</td>\n",
       "    </tr>\n",
       "    <tr>\n",
       "      <th>1</th>\n",
       "      <td>ENTERTAINMENT</td>\n",
       "      <td>Will Smith Joins Diplo And Nicky Jam For The 2...</td>\n",
       "      <td>Andy McDonald</td>\n",
       "      <td>https://www.huffingtonpost.com/entry/will-smit...</td>\n",
       "      <td>Of course it has a song.</td>\n",
       "      <td>2018-05-26</td>\n",
       "    </tr>\n",
       "    <tr>\n",
       "      <th>2</th>\n",
       "      <td>ENTERTAINMENT</td>\n",
       "      <td>Hugh Grant Marries For The First Time At Age 57</td>\n",
       "      <td>Ron Dicker</td>\n",
       "      <td>https://www.huffingtonpost.com/entry/hugh-gran...</td>\n",
       "      <td>The actor and his longtime girlfriend Anna Ebe...</td>\n",
       "      <td>2018-05-26</td>\n",
       "    </tr>\n",
       "    <tr>\n",
       "      <th>3</th>\n",
       "      <td>ENTERTAINMENT</td>\n",
       "      <td>Jim Carrey Blasts 'Castrato' Adam Schiff And D...</td>\n",
       "      <td>Ron Dicker</td>\n",
       "      <td>https://www.huffingtonpost.com/entry/jim-carre...</td>\n",
       "      <td>The actor gives Dems an ass-kicking for not fi...</td>\n",
       "      <td>2018-05-26</td>\n",
       "    </tr>\n",
       "    <tr>\n",
       "      <th>4</th>\n",
       "      <td>ENTERTAINMENT</td>\n",
       "      <td>Julianna Margulies Uses Donald Trump Poop Bags...</td>\n",
       "      <td>Ron Dicker</td>\n",
       "      <td>https://www.huffingtonpost.com/entry/julianna-...</td>\n",
       "      <td>The \"Dietland\" actress said using the bags is ...</td>\n",
       "      <td>2018-05-26</td>\n",
       "    </tr>\n",
       "  </tbody>\n",
       "</table>\n",
       "</div>"
      ],
      "text/plain": [
       "        category                                           headline  \\\n",
       "0          CRIME  There Were 2 Mass Shootings In Texas Last Week...   \n",
       "1  ENTERTAINMENT  Will Smith Joins Diplo And Nicky Jam For The 2...   \n",
       "2  ENTERTAINMENT    Hugh Grant Marries For The First Time At Age 57   \n",
       "3  ENTERTAINMENT  Jim Carrey Blasts 'Castrato' Adam Schiff And D...   \n",
       "4  ENTERTAINMENT  Julianna Margulies Uses Donald Trump Poop Bags...   \n",
       "\n",
       "           authors                                               link  \\\n",
       "0  Melissa Jeltsen  https://www.huffingtonpost.com/entry/texas-ama...   \n",
       "1    Andy McDonald  https://www.huffingtonpost.com/entry/will-smit...   \n",
       "2       Ron Dicker  https://www.huffingtonpost.com/entry/hugh-gran...   \n",
       "3       Ron Dicker  https://www.huffingtonpost.com/entry/jim-carre...   \n",
       "4       Ron Dicker  https://www.huffingtonpost.com/entry/julianna-...   \n",
       "\n",
       "                                   short_description       date  \n",
       "0  She left her husband. He killed their children... 2018-05-26  \n",
       "1                           Of course it has a song. 2018-05-26  \n",
       "2  The actor and his longtime girlfriend Anna Ebe... 2018-05-26  \n",
       "3  The actor gives Dems an ass-kicking for not fi... 2018-05-26  \n",
       "4  The \"Dietland\" actress said using the bags is ... 2018-05-26  "
      ]
     },
     "execution_count": 82,
     "metadata": {},
     "output_type": "execute_result"
    }
   ],
   "source": [
    "# Read in data\n",
    "data = pd.read_json('data/News_Category_Dataset_v2.json', lines=True)\n",
    "data.head()"
   ]
  },
  {
   "cell_type": "code",
   "execution_count": 83,
   "id": "c21d5993-074d-4089-b685-296f9aab7d26",
   "metadata": {},
   "outputs": [
    {
     "data": {
      "text/plain": [
       "{'CRIME': 0,\n",
       " 'ENTERTAINMENT': 1,\n",
       " 'WORLD NEWS': 2,\n",
       " 'IMPACT': 3,\n",
       " 'POLITICS': 4,\n",
       " 'WEIRD NEWS': 5,\n",
       " 'BLACK VOICES': 6,\n",
       " 'WOMEN': 7,\n",
       " 'COMEDY': 8,\n",
       " 'QUEER VOICES': 9,\n",
       " 'SPORTS': 10,\n",
       " 'BUSINESS': 11,\n",
       " 'TRAVEL': 12,\n",
       " 'MEDIA': 13,\n",
       " 'TECH': 14,\n",
       " 'RELIGION': 15,\n",
       " 'SCIENCE': 16,\n",
       " 'LATINO VOICES': 17,\n",
       " 'EDUCATION': 18,\n",
       " 'COLLEGE': 19,\n",
       " 'PARENTS': 20,\n",
       " 'ARTS & CULTURE': 21,\n",
       " 'STYLE': 22,\n",
       " 'GREEN': 23,\n",
       " 'TASTE': 24,\n",
       " 'HEALTHY LIVING': 25,\n",
       " 'THE WORLDPOST': 26,\n",
       " 'GOOD NEWS': 27,\n",
       " 'WORLDPOST': 28,\n",
       " 'FIFTY': 29,\n",
       " 'ARTS': 30,\n",
       " 'WELLNESS': 31,\n",
       " 'PARENTING': 32,\n",
       " 'HOME & LIVING': 33,\n",
       " 'STYLE & BEAUTY': 34,\n",
       " 'DIVORCE': 35,\n",
       " 'WEDDINGS': 36,\n",
       " 'FOOD & DRINK': 37,\n",
       " 'MONEY': 38,\n",
       " 'ENVIRONMENT': 39,\n",
       " 'CULTURE & ARTS': 40}"
      ]
     },
     "execution_count": 83,
     "metadata": {},
     "output_type": "execute_result"
    }
   ],
   "source": [
    "# Create category dictionary linking unique categories \n",
    "category_dict = {cat: i for i, cat in enumerate(data.category.unique())}\n",
    "category_dict"
   ]
  },
  {
   "cell_type": "code",
   "execution_count": 85,
   "id": "634daae4-3e1e-488e-a6d4-4d61627f3eaf",
   "metadata": {},
   "outputs": [
    {
     "data": {
      "text/html": [
       "<div>\n",
       "<style scoped>\n",
       "    .dataframe tbody tr th:only-of-type {\n",
       "        vertical-align: middle;\n",
       "    }\n",
       "\n",
       "    .dataframe tbody tr th {\n",
       "        vertical-align: top;\n",
       "    }\n",
       "\n",
       "    .dataframe thead th {\n",
       "        text-align: right;\n",
       "    }\n",
       "</style>\n",
       "<table border=\"1\" class=\"dataframe\">\n",
       "  <thead>\n",
       "    <tr style=\"text-align: right;\">\n",
       "      <th></th>\n",
       "      <th>category</th>\n",
       "      <th>headline</th>\n",
       "      <th>authors</th>\n",
       "      <th>link</th>\n",
       "      <th>short_description</th>\n",
       "      <th>date</th>\n",
       "      <th>target</th>\n",
       "    </tr>\n",
       "  </thead>\n",
       "  <tbody>\n",
       "    <tr>\n",
       "      <th>0</th>\n",
       "      <td>CRIME</td>\n",
       "      <td>There Were 2 Mass Shootings In Texas Last Week...</td>\n",
       "      <td>Melissa Jeltsen</td>\n",
       "      <td>https://www.huffingtonpost.com/entry/texas-ama...</td>\n",
       "      <td>She left her husband. He killed their children...</td>\n",
       "      <td>2018-05-26</td>\n",
       "      <td>0</td>\n",
       "    </tr>\n",
       "    <tr>\n",
       "      <th>1</th>\n",
       "      <td>ENTERTAINMENT</td>\n",
       "      <td>Will Smith Joins Diplo And Nicky Jam For The 2...</td>\n",
       "      <td>Andy McDonald</td>\n",
       "      <td>https://www.huffingtonpost.com/entry/will-smit...</td>\n",
       "      <td>Of course it has a song.</td>\n",
       "      <td>2018-05-26</td>\n",
       "      <td>1</td>\n",
       "    </tr>\n",
       "    <tr>\n",
       "      <th>2</th>\n",
       "      <td>ENTERTAINMENT</td>\n",
       "      <td>Hugh Grant Marries For The First Time At Age 57</td>\n",
       "      <td>Ron Dicker</td>\n",
       "      <td>https://www.huffingtonpost.com/entry/hugh-gran...</td>\n",
       "      <td>The actor and his longtime girlfriend Anna Ebe...</td>\n",
       "      <td>2018-05-26</td>\n",
       "      <td>1</td>\n",
       "    </tr>\n",
       "    <tr>\n",
       "      <th>3</th>\n",
       "      <td>ENTERTAINMENT</td>\n",
       "      <td>Jim Carrey Blasts 'Castrato' Adam Schiff And D...</td>\n",
       "      <td>Ron Dicker</td>\n",
       "      <td>https://www.huffingtonpost.com/entry/jim-carre...</td>\n",
       "      <td>The actor gives Dems an ass-kicking for not fi...</td>\n",
       "      <td>2018-05-26</td>\n",
       "      <td>1</td>\n",
       "    </tr>\n",
       "    <tr>\n",
       "      <th>4</th>\n",
       "      <td>ENTERTAINMENT</td>\n",
       "      <td>Julianna Margulies Uses Donald Trump Poop Bags...</td>\n",
       "      <td>Ron Dicker</td>\n",
       "      <td>https://www.huffingtonpost.com/entry/julianna-...</td>\n",
       "      <td>The \"Dietland\" actress said using the bags is ...</td>\n",
       "      <td>2018-05-26</td>\n",
       "      <td>1</td>\n",
       "    </tr>\n",
       "  </tbody>\n",
       "</table>\n",
       "</div>"
      ],
      "text/plain": [
       "        category                                           headline  \\\n",
       "0          CRIME  There Were 2 Mass Shootings In Texas Last Week...   \n",
       "1  ENTERTAINMENT  Will Smith Joins Diplo And Nicky Jam For The 2...   \n",
       "2  ENTERTAINMENT    Hugh Grant Marries For The First Time At Age 57   \n",
       "3  ENTERTAINMENT  Jim Carrey Blasts 'Castrato' Adam Schiff And D...   \n",
       "4  ENTERTAINMENT  Julianna Margulies Uses Donald Trump Poop Bags...   \n",
       "\n",
       "           authors                                               link  \\\n",
       "0  Melissa Jeltsen  https://www.huffingtonpost.com/entry/texas-ama...   \n",
       "1    Andy McDonald  https://www.huffingtonpost.com/entry/will-smit...   \n",
       "2       Ron Dicker  https://www.huffingtonpost.com/entry/hugh-gran...   \n",
       "3       Ron Dicker  https://www.huffingtonpost.com/entry/jim-carre...   \n",
       "4       Ron Dicker  https://www.huffingtonpost.com/entry/julianna-...   \n",
       "\n",
       "                                   short_description       date  target  \n",
       "0  She left her husband. He killed their children... 2018-05-26       0  \n",
       "1                           Of course it has a song. 2018-05-26       1  \n",
       "2  The actor and his longtime girlfriend Anna Ebe... 2018-05-26       1  \n",
       "3  The actor gives Dems an ass-kicking for not fi... 2018-05-26       1  \n",
       "4  The \"Dietland\" actress said using the bags is ... 2018-05-26       1  "
      ]
     },
     "execution_count": 85,
     "metadata": {},
     "output_type": "execute_result"
    }
   ],
   "source": [
    "# Create target attribute which has the corresponding category id established above\n",
    "data['target'] = data['category'].map(category_dict)\n",
    "data.head()"
   ]
  },
  {
   "cell_type": "code",
   "execution_count": 86,
   "id": "bbc8e7f1-7e5c-410d-8689-a5da293f269d",
   "metadata": {},
   "outputs": [],
   "source": [
    "# Combine both the headline and the short description \n",
    "data['combined'] = data.headline + '. ' + data.short_description "
   ]
  },
  {
   "cell_type": "code",
   "execution_count": 87,
   "id": "ab957451-a1bb-4172-a02e-998de01dd4fd",
   "metadata": {},
   "outputs": [
    {
     "data": {
      "text/plain": [
       "POLITICS          32739\n",
       "WELLNESS          17827\n",
       "ENTERTAINMENT     16058\n",
       "TRAVEL             9887\n",
       "STYLE & BEAUTY     9649\n",
       "PARENTING          8677\n",
       "HEALTHY LIVING     6694\n",
       "QUEER VOICES       6314\n",
       "FOOD & DRINK       6226\n",
       "BUSINESS           5937\n",
       "COMEDY             5175\n",
       "SPORTS             4884\n",
       "BLACK VOICES       4528\n",
       "HOME & LIVING      4195\n",
       "PARENTS            3955\n",
       "THE WORLDPOST      3664\n",
       "WEDDINGS           3651\n",
       "WOMEN              3490\n",
       "IMPACT             3459\n",
       "DIVORCE            3426\n",
       "CRIME              3405\n",
       "MEDIA              2815\n",
       "WEIRD NEWS         2670\n",
       "GREEN              2622\n",
       "WORLDPOST          2579\n",
       "RELIGION           2556\n",
       "STYLE              2254\n",
       "SCIENCE            2178\n",
       "WORLD NEWS         2177\n",
       "TASTE              2096\n",
       "TECH               2082\n",
       "MONEY              1707\n",
       "ARTS               1509\n",
       "FIFTY              1401\n",
       "GOOD NEWS          1398\n",
       "ARTS & CULTURE     1339\n",
       "ENVIRONMENT        1323\n",
       "COLLEGE            1144\n",
       "LATINO VOICES      1129\n",
       "CULTURE & ARTS     1030\n",
       "EDUCATION          1004\n",
       "Name: category, dtype: int64"
      ]
     },
     "execution_count": 87,
     "metadata": {},
     "output_type": "execute_result"
    }
   ],
   "source": [
    "cat_counts = data.category.value_counts()\n",
    "cat_counts"
   ]
  },
  {
   "cell_type": "markdown",
   "id": "3535a712-39ca-4282-9c1c-af1f8c708de5",
   "metadata": {
    "tags": []
   },
   "source": [
    "### First for eda, we need to clean up the text data\n",
    "This process will be repeated when we fit our model, but will be encapsulated in sckikit-learn functionality."
   ]
  },
  {
   "cell_type": "code",
   "execution_count": 90,
   "id": "b5486733-72f6-4e77-8934-561842b46a7c",
   "metadata": {},
   "outputs": [],
   "source": [
    "eda_data = data.copy()"
   ]
  },
  {
   "cell_type": "markdown",
   "id": "2c0af270-2f1d-4ad7-b811-6038062b01ac",
   "metadata": {},
   "source": [
    "#### Convert combined text to lowercase"
   ]
  },
  {
   "cell_type": "code",
   "execution_count": 94,
   "id": "1d7746fa-dd69-4402-9e4a-224666dcef87",
   "metadata": {},
   "outputs": [],
   "source": [
    "eda_data['cleaned'] = eda_data.combined.apply(lambda x: x.lower())"
   ]
  },
  {
   "cell_type": "code",
   "execution_count": 98,
   "id": "525edc5e-d737-4d29-bf36-9980bf96445c",
   "metadata": {},
   "outputs": [
    {
     "data": {
      "text/plain": [
       "175411"
      ]
     },
     "execution_count": 98,
     "metadata": {},
     "output_type": "execute_result"
    }
   ],
   "source": [
    "np.random.randint(0, len(eda_data))"
   ]
  },
  {
   "cell_type": "code",
   "execution_count": 100,
   "id": "86be34ba-018e-4425-8867-c5b0e964f42c",
   "metadata": {},
   "outputs": [
    {
     "data": {
      "text/plain": [
       "'california man\\'s rattlesnake selfie goes predictably wrong. his mother is furious she could have lost her son over a \"stupid\" stunt.'"
      ]
     },
     "execution_count": 100,
     "metadata": {},
     "output_type": "execute_result"
    }
   ],
   "source": [
    "eda_data.cleaned[np.random.randint(0, len(eda_data))]"
   ]
  },
  {
   "cell_type": "markdown",
   "id": "f473db9a-f7bf-4239-8e93-d2bd1ba46a26",
   "metadata": {},
   "source": [
    "## Initial model - tfidf vectorizer and Naive Bayes classifier"
   ]
  },
  {
   "cell_type": "code",
   "execution_count": 54,
   "id": "131f6d84-ea6b-4ddd-b016-c0456fc755aa",
   "metadata": {},
   "outputs": [
    {
     "data": {
      "text/plain": [
       "160682"
      ]
     },
     "execution_count": 54,
     "metadata": {},
     "output_type": "execute_result"
    }
   ],
   "source": [
    "X, y = data.combined, data['target']\n",
    "\n",
    "X_train, X_test, y_train, y_test = train_test_split(X, y, test_size=0.2, random_state=42)\n",
    "len(X_train)"
   ]
  },
  {
   "cell_type": "code",
   "execution_count": 151,
   "id": "acb1633f-5458-4e50-b03a-e8887984d2d0",
   "metadata": {},
   "outputs": [
    {
     "data": {
      "text/plain": [
       "(160672, 78909)"
      ]
     },
     "execution_count": 151,
     "metadata": {},
     "output_type": "execute_result"
    }
   ],
   "source": [
    "vect = CountVectorizer()\n",
    "X_train_counts = vect.fit_transform(X_train)\n",
    "X_train_counts.shape"
   ]
  },
  {
   "cell_type": "code",
   "execution_count": 153,
   "id": "53834bbd-e2ee-4e3d-99ad-83967ee3277a",
   "metadata": {},
   "outputs": [
    {
     "data": {
      "text/plain": [
       "(160672, 78909)"
      ]
     },
     "execution_count": 153,
     "metadata": {},
     "output_type": "execute_result"
    }
   ],
   "source": [
    "tfidf = TfidfTransformer()\n",
    "X_train_tfidf = tfidf.fit_transform(X_train_counts)\n",
    "X_train_tfidf.shape"
   ]
  },
  {
   "cell_type": "code",
   "execution_count": 155,
   "id": "bbd6daba-9e72-45ed-9a5b-18982a5fe475",
   "metadata": {},
   "outputs": [],
   "source": [
    "clf = MultinomialNB().fit(X_train_tfidf, y_train)"
   ]
  },
  {
   "cell_type": "code",
   "execution_count": 160,
   "id": "bf5b0d79-4d69-4b1c-9f21-2d0007f68790",
   "metadata": {},
   "outputs": [
    {
     "data": {
      "text/plain": [
       "0.38441047600079664"
      ]
     },
     "execution_count": 160,
     "metadata": {},
     "output_type": "execute_result"
    }
   ],
   "source": [
    "X_test_counts = vect.transform(X_test)\n",
    "X_test_tfidf = tfidf.transform(X_test_counts)\n",
    "\n",
    "predicted = clf.predict(X_test_tfidf)\n",
    "np.mean(predicted == y_test)"
   ]
  },
  {
   "cell_type": "code",
   "execution_count": 170,
   "id": "4cb6b0ce-cbb0-4072-9999-79d961d32708",
   "metadata": {},
   "outputs": [],
   "source": [
    "def test_sentence(sentence, vect, tfidf, clf):\n",
    "    sent_counts = vect.transform([sentence])\n",
    "    sent_tfidf = tfidf.transform(sent_counts)\n",
    "    \n",
    "    return list(category_dict.keys())[list(category_dict.values()).index(clf.predict(sent_tfidf))]\n",
    "    "
   ]
  },
  {
   "cell_type": "code",
   "execution_count": 172,
   "id": "6db2c4c5-d2c5-4484-ac79-78404bc1b7b2",
   "metadata": {},
   "outputs": [
    {
     "data": {
      "text/plain": [
       "'ENTERTAINMENT'"
      ]
     },
     "execution_count": 172,
     "metadata": {},
     "output_type": "execute_result"
    }
   ],
   "source": [
    "sen = \"Apple MacBook Pro 16-inch M1 Max review: New silicon meets retro ports. It's the best of the old and new in this long-awaited, professional-grade Apple silicon MacBook.\"\n",
    "\n",
    "test_sentence(sen, vect, tfidf, clf)\n"
   ]
  },
  {
   "cell_type": "markdown",
   "id": "84bbee0c-595e-4e88-909d-105b3ee6208b",
   "metadata": {},
   "source": [
    "## RandomizedSearch CV with other algorithms."
   ]
  },
  {
   "cell_type": "code",
   "execution_count": 66,
   "id": "e6cb56ef-20f4-414d-8015-f5ec3841b798",
   "metadata": {},
   "outputs": [],
   "source": [
    "class DummyEstimator(BaseEstimator):\n",
    "    def fit(self): pass\n",
    "    def score(self): pass\n",
    "    def predict(self): pass"
   ]
  },
  {
   "cell_type": "code",
   "execution_count": 67,
   "id": "ce99552b-12ac-4c59-ba2d-008b79f1d236",
   "metadata": {},
   "outputs": [],
   "source": [
    "pipe = Pipeline([('count_vect', CountVectorizer()),\n",
    "                 ('tfidf', TfidfTransformer()),\n",
    "                 ('clf', DummyEstimator())])"
   ]
  },
  {
   "cell_type": "code",
   "execution_count": 68,
   "id": "3206be10-7ff2-4887-9b35-24c75a7f117c",
   "metadata": {},
   "outputs": [],
   "source": [
    "search_space = [{'clf': [DecisionTreeClassifier()]},\n",
    "               \n",
    "                {'clf': [MultinomialNB()]},\n",
    "                \n",
    "                {'clf': [LogisticRegression()]}]\n",
    "                \n",
    "                "
   ]
  },
  {
   "cell_type": "code",
   "execution_count": 69,
   "id": "868f962a-f1c5-4efe-a213-b0dee45142f5",
   "metadata": {},
   "outputs": [
    {
     "name": "stdout",
     "output_type": "stream",
     "text": [
      "Fitting 5 folds for each of 3 candidates, totalling 15 fits\n"
     ]
    },
    {
     "name": "stderr",
     "output_type": "stream",
     "text": [
      "/Users/kylebrooks/opt/anaconda3/envs/550-final-project/lib/python3.9/site-packages/sklearn/linear_model/_logistic.py:763: ConvergenceWarning: lbfgs failed to converge (status=1):\n",
      "STOP: TOTAL NO. of ITERATIONS REACHED LIMIT.\n",
      "\n",
      "Increase the number of iterations (max_iter) or scale the data as shown in:\n",
      "    https://scikit-learn.org/stable/modules/preprocessing.html\n",
      "Please also refer to the documentation for alternative solver options:\n",
      "    https://scikit-learn.org/stable/modules/linear_model.html#logistic-regression\n",
      "  n_iter_i = _check_optimize_result(\n",
      "/Users/kylebrooks/opt/anaconda3/envs/550-final-project/lib/python3.9/site-packages/sklearn/linear_model/_logistic.py:763: ConvergenceWarning: lbfgs failed to converge (status=1):\n",
      "STOP: TOTAL NO. of ITERATIONS REACHED LIMIT.\n",
      "\n",
      "Increase the number of iterations (max_iter) or scale the data as shown in:\n",
      "    https://scikit-learn.org/stable/modules/preprocessing.html\n",
      "Please also refer to the documentation for alternative solver options:\n",
      "    https://scikit-learn.org/stable/modules/linear_model.html#logistic-regression\n",
      "  n_iter_i = _check_optimize_result(\n",
      "/Users/kylebrooks/opt/anaconda3/envs/550-final-project/lib/python3.9/site-packages/sklearn/linear_model/_logistic.py:763: ConvergenceWarning: lbfgs failed to converge (status=1):\n",
      "STOP: TOTAL NO. of ITERATIONS REACHED LIMIT.\n",
      "\n",
      "Increase the number of iterations (max_iter) or scale the data as shown in:\n",
      "    https://scikit-learn.org/stable/modules/preprocessing.html\n",
      "Please also refer to the documentation for alternative solver options:\n",
      "    https://scikit-learn.org/stable/modules/linear_model.html#logistic-regression\n",
      "  n_iter_i = _check_optimize_result(\n",
      "/Users/kylebrooks/opt/anaconda3/envs/550-final-project/lib/python3.9/site-packages/sklearn/linear_model/_logistic.py:763: ConvergenceWarning: lbfgs failed to converge (status=1):\n",
      "STOP: TOTAL NO. of ITERATIONS REACHED LIMIT.\n",
      "\n",
      "Increase the number of iterations (max_iter) or scale the data as shown in:\n",
      "    https://scikit-learn.org/stable/modules/preprocessing.html\n",
      "Please also refer to the documentation for alternative solver options:\n",
      "    https://scikit-learn.org/stable/modules/linear_model.html#logistic-regression\n",
      "  n_iter_i = _check_optimize_result(\n",
      "/Users/kylebrooks/opt/anaconda3/envs/550-final-project/lib/python3.9/site-packages/sklearn/linear_model/_logistic.py:763: ConvergenceWarning: lbfgs failed to converge (status=1):\n",
      "STOP: TOTAL NO. of ITERATIONS REACHED LIMIT.\n",
      "\n",
      "Increase the number of iterations (max_iter) or scale the data as shown in:\n",
      "    https://scikit-learn.org/stable/modules/preprocessing.html\n",
      "Please also refer to the documentation for alternative solver options:\n",
      "    https://scikit-learn.org/stable/modules/linear_model.html#logistic-regression\n",
      "  n_iter_i = _check_optimize_result(\n",
      "/Users/kylebrooks/opt/anaconda3/envs/550-final-project/lib/python3.9/site-packages/sklearn/linear_model/_logistic.py:763: ConvergenceWarning: lbfgs failed to converge (status=1):\n",
      "STOP: TOTAL NO. of ITERATIONS REACHED LIMIT.\n",
      "\n",
      "Increase the number of iterations (max_iter) or scale the data as shown in:\n",
      "    https://scikit-learn.org/stable/modules/preprocessing.html\n",
      "Please also refer to the documentation for alternative solver options:\n",
      "    https://scikit-learn.org/stable/modules/linear_model.html#logistic-regression\n",
      "  n_iter_i = _check_optimize_result(\n"
     ]
    },
    {
     "data": {
      "text/plain": [
       "LogisticRegression()"
      ]
     },
     "execution_count": 69,
     "metadata": {},
     "output_type": "execute_result"
    }
   ],
   "source": [
    "clf_search = RandomizedSearchCV(estimator=pipe, \n",
    "                                param_distributions=search_space,\n",
    "                                n_iter=3,\n",
    "                                cv=5,\n",
    "                                n_jobs=-1,\n",
    "                                verbose=1)\n",
    "\n",
    "best_model = clf_search.fit(X_train, y_train)\n",
    "\n",
    "best_model.best_estimator_.get_params()['clf']"
   ]
  },
  {
   "cell_type": "code",
   "execution_count": 70,
   "id": "f540c9b7-436d-43d5-9ef9-9a4e979081a9",
   "metadata": {},
   "outputs": [
    {
     "data": {
      "text/plain": [
       "Pipeline(steps=[('count_vect', CountVectorizer()),\n",
       "                ('tfidf', TfidfTransformer()), ('clf', DummyEstimator())])"
      ]
     },
     "execution_count": 70,
     "metadata": {},
     "output_type": "execute_result"
    }
   ],
   "source": [
    "test = best_model.estimator\n",
    "test"
   ]
  },
  {
   "cell_type": "code",
   "execution_count": 75,
   "id": "ce15fc27-a9fe-41b4-bac9-0265eb50cbca",
   "metadata": {},
   "outputs": [
    {
     "data": {
      "text/plain": [
       "['__abstractmethods__',\n",
       " '__class__',\n",
       " '__delattr__',\n",
       " '__dict__',\n",
       " '__dir__',\n",
       " '__doc__',\n",
       " '__eq__',\n",
       " '__format__',\n",
       " '__ge__',\n",
       " '__getattribute__',\n",
       " '__getstate__',\n",
       " '__gt__',\n",
       " '__hash__',\n",
       " '__init__',\n",
       " '__init_subclass__',\n",
       " '__le__',\n",
       " '__lt__',\n",
       " '__module__',\n",
       " '__ne__',\n",
       " '__new__',\n",
       " '__reduce__',\n",
       " '__reduce_ex__',\n",
       " '__repr__',\n",
       " '__setattr__',\n",
       " '__setstate__',\n",
       " '__sizeof__',\n",
       " '__str__',\n",
       " '__subclasshook__',\n",
       " '__weakref__',\n",
       " '_abc_impl',\n",
       " '_check_is_fitted',\n",
       " '_check_n_features',\n",
       " '_check_refit_for_multimetric',\n",
       " '_estimator_type',\n",
       " '_format_results',\n",
       " '_get_param_names',\n",
       " '_get_tags',\n",
       " '_more_tags',\n",
       " '_pairwise',\n",
       " '_repr_html_',\n",
       " '_repr_html_inner',\n",
       " '_repr_mimebundle_',\n",
       " '_required_parameters',\n",
       " '_run_search',\n",
       " '_validate_data',\n",
       " 'best_estimator_',\n",
       " 'best_index_',\n",
       " 'best_params_',\n",
       " 'best_score_',\n",
       " 'classes_',\n",
       " 'cv',\n",
       " 'cv_results_',\n",
       " 'decision_function',\n",
       " 'error_score',\n",
       " 'estimator',\n",
       " 'fit',\n",
       " 'get_params',\n",
       " 'inverse_transform',\n",
       " 'multimetric_',\n",
       " 'n_features_in_',\n",
       " 'n_iter',\n",
       " 'n_jobs',\n",
       " 'n_splits_',\n",
       " 'param_distributions',\n",
       " 'pre_dispatch',\n",
       " 'predict',\n",
       " 'predict_log_proba',\n",
       " 'predict_proba',\n",
       " 'random_state',\n",
       " 'refit',\n",
       " 'refit_time_',\n",
       " 'return_train_score',\n",
       " 'score',\n",
       " 'score_samples',\n",
       " 'scorer_',\n",
       " 'scoring',\n",
       " 'set_params',\n",
       " 'transform',\n",
       " 'verbose']"
      ]
     },
     "execution_count": 75,
     "metadata": {},
     "output_type": "execute_result"
    }
   ],
   "source": [
    "best_model.predict(X_test)"
   ]
  },
  {
   "cell_type": "code",
   "execution_count": 78,
   "id": "b6239446-f442-4d45-8573-ceaf0884068c",
   "metadata": {},
   "outputs": [
    {
     "data": {
      "text/plain": [
       "0.6760869294631633"
      ]
     },
     "execution_count": 78,
     "metadata": {},
     "output_type": "execute_result"
    }
   ],
   "source": [
    "train_pred = best_model.predict(X_train)\n",
    "np.mean(train_pred == y_train)"
   ]
  },
  {
   "cell_type": "code",
   "execution_count": 76,
   "id": "cf5bb7ab-3cc9-41f8-961f-1bb8f2db5bdc",
   "metadata": {},
   "outputs": [
    {
     "data": {
      "text/plain": [
       "0.6006074033506759"
      ]
     },
     "execution_count": 76,
     "metadata": {},
     "output_type": "execute_result"
    }
   ],
   "source": [
    "predicted = best_model.predict(X_test)\n",
    "np.mean(predicted == y_test)"
   ]
  },
  {
   "cell_type": "code",
   "execution_count": 72,
   "id": "7f853dbc-3d4b-43c0-abeb-e616792cf943",
   "metadata": {},
   "outputs": [
    {
     "ename": "TypeError",
     "evalue": "fit() takes 1 positional argument but 3 were given",
     "output_type": "error",
     "traceback": [
      "\u001b[0;31m---------------------------------------------------------------------------\u001b[0m",
      "\u001b[0;31mTypeError\u001b[0m                                 Traceback (most recent call last)",
      "\u001b[0;32m/var/folders/sy/b9nnsg_n78145yg6bd0j_hz00000gn/T/ipykernel_52341/3267179519.py\u001b[0m in \u001b[0;36m<module>\u001b[0;34m\u001b[0m\n\u001b[0;32m----> 1\u001b[0;31m \u001b[0mtest\u001b[0m\u001b[0;34m.\u001b[0m\u001b[0mfit\u001b[0m\u001b[0;34m(\u001b[0m\u001b[0mX_train\u001b[0m\u001b[0;34m,\u001b[0m \u001b[0my_train\u001b[0m\u001b[0;34m)\u001b[0m\u001b[0;34m\u001b[0m\u001b[0;34m\u001b[0m\u001b[0m\n\u001b[0m\u001b[1;32m      2\u001b[0m \u001b[0mpredicted\u001b[0m \u001b[0;34m=\u001b[0m \u001b[0mtest\u001b[0m\u001b[0;34m.\u001b[0m\u001b[0mpredict\u001b[0m\u001b[0;34m(\u001b[0m\u001b[0mX_test\u001b[0m\u001b[0;34m)\u001b[0m\u001b[0;34m\u001b[0m\u001b[0;34m\u001b[0m\u001b[0m\n\u001b[1;32m      3\u001b[0m \u001b[0mnp\u001b[0m\u001b[0;34m.\u001b[0m\u001b[0mmean\u001b[0m\u001b[0;34m(\u001b[0m\u001b[0mpredicted\u001b[0m \u001b[0;34m==\u001b[0m \u001b[0my_test\u001b[0m\u001b[0;34m)\u001b[0m\u001b[0;34m\u001b[0m\u001b[0;34m\u001b[0m\u001b[0m\n",
      "\u001b[0;32m~/opt/anaconda3/envs/550-final-project/lib/python3.9/site-packages/sklearn/pipeline.py\u001b[0m in \u001b[0;36mfit\u001b[0;34m(self, X, y, **fit_params)\u001b[0m\n\u001b[1;32m    344\u001b[0m             \u001b[0;32mif\u001b[0m \u001b[0mself\u001b[0m\u001b[0;34m.\u001b[0m\u001b[0m_final_estimator\u001b[0m \u001b[0;34m!=\u001b[0m \u001b[0;34m'passthrough'\u001b[0m\u001b[0;34m:\u001b[0m\u001b[0;34m\u001b[0m\u001b[0;34m\u001b[0m\u001b[0m\n\u001b[1;32m    345\u001b[0m                 \u001b[0mfit_params_last_step\u001b[0m \u001b[0;34m=\u001b[0m \u001b[0mfit_params_steps\u001b[0m\u001b[0;34m[\u001b[0m\u001b[0mself\u001b[0m\u001b[0;34m.\u001b[0m\u001b[0msteps\u001b[0m\u001b[0;34m[\u001b[0m\u001b[0;34m-\u001b[0m\u001b[0;36m1\u001b[0m\u001b[0;34m]\u001b[0m\u001b[0;34m[\u001b[0m\u001b[0;36m0\u001b[0m\u001b[0;34m]\u001b[0m\u001b[0;34m]\u001b[0m\u001b[0;34m\u001b[0m\u001b[0;34m\u001b[0m\u001b[0m\n\u001b[0;32m--> 346\u001b[0;31m                 \u001b[0mself\u001b[0m\u001b[0;34m.\u001b[0m\u001b[0m_final_estimator\u001b[0m\u001b[0;34m.\u001b[0m\u001b[0mfit\u001b[0m\u001b[0;34m(\u001b[0m\u001b[0mXt\u001b[0m\u001b[0;34m,\u001b[0m \u001b[0my\u001b[0m\u001b[0;34m,\u001b[0m \u001b[0;34m**\u001b[0m\u001b[0mfit_params_last_step\u001b[0m\u001b[0;34m)\u001b[0m\u001b[0;34m\u001b[0m\u001b[0;34m\u001b[0m\u001b[0m\n\u001b[0m\u001b[1;32m    347\u001b[0m \u001b[0;34m\u001b[0m\u001b[0m\n\u001b[1;32m    348\u001b[0m         \u001b[0;32mreturn\u001b[0m \u001b[0mself\u001b[0m\u001b[0;34m\u001b[0m\u001b[0;34m\u001b[0m\u001b[0m\n",
      "\u001b[0;31mTypeError\u001b[0m: fit() takes 1 positional argument but 3 were given"
     ]
    }
   ],
   "source": [
    "test.fit(X_train, y_train)\n",
    "predicted = test.predict(X_test)\n",
    "np.mean(predicted == y_test)"
   ]
  },
  {
   "cell_type": "markdown",
   "id": "e36e9459-44e0-49f4-a326-915b6d3b2476",
   "metadata": {},
   "source": [
    "## Bags of words"
   ]
  },
  {
   "cell_type": "code",
   "execution_count": 86,
   "id": "95d1e73a-8c47-4d29-a952-54c59426f0e8",
   "metadata": {},
   "outputs": [],
   "source": [
    "data['combined'] = data.headline + '. ' + data.short_description "
   ]
  },
  {
   "cell_type": "code",
   "execution_count": 88,
   "id": "bd8c4b1a-985f-4b83-a7a0-fc78f3006f46",
   "metadata": {},
   "outputs": [],
   "source": [
    "# Assign fixed integer id to each word occurring in the document of the training set\n",
    "count_vect = CountVectorizer()\n",
    "test = count_vect.fit_transform(data.combined)"
   ]
  },
  {
   "cell_type": "code",
   "execution_count": 89,
   "id": "ba2cee82-7972-43c1-bf83-f097e44b7600",
   "metadata": {},
   "outputs": [
    {
     "data": {
      "text/plain": [
       "<200840x86670 sparse matrix of type '<class 'numpy.int64'>'\n",
       "\twith 4974671 stored elements in Compressed Sparse Row format>"
      ]
     },
     "execution_count": 89,
     "metadata": {},
     "output_type": "execute_result"
    }
   ],
   "source": [
    "test"
   ]
  },
  {
   "cell_type": "markdown",
   "id": "e8c3f6ef-f637-469c-bd9c-4ca78f574255",
   "metadata": {},
   "source": [
    "## Initial text preprocessing"
   ]
  },
  {
   "cell_type": "code",
   "execution_count": 85,
   "id": "f2742b4f-2287-4615-bc04-ce0a0ed0f49f",
   "metadata": {},
   "outputs": [
    {
     "data": {
      "text/plain": [
       "-0.8047"
      ]
     },
     "execution_count": 85,
     "metadata": {},
     "output_type": "execute_result"
    }
   ],
   "source": [
    "analyzer = SentimentIntensityAnalyzer()\n",
    "\n",
    "analyzer.polarity_scores(data.combined[0])['compound']"
   ]
  },
  {
   "cell_type": "code",
   "execution_count": 73,
   "id": "22ce5102-fb4e-4308-a4b8-8be885e4c94f",
   "metadata": {},
   "outputs": [],
   "source": [
    "def determine_sentiment(score):\n",
    "    if score > 0:\n",
    "        return 'positive'\n",
    "    elif score < 0:\n",
    "        return 'negative'\n",
    "    else:\n",
    "        return 'neutral'"
   ]
  },
  {
   "cell_type": "code",
   "execution_count": 75,
   "id": "3a809aed-d278-47be-83b3-3f5965eff5cc",
   "metadata": {},
   "outputs": [],
   "source": [
    "# Combine the headline with the short description of the article --> likely will improve performance\n",
    "data['combined'] = data.headline + '. ' + data.short_description \n",
    "\n",
    "analyzer = SentimentIntensityAnalyzer()\n",
    "\n",
    "data['sentiment_score'] = [analyzer.polarity_scores(sentence)['compound'] for sentence in data.combined]\n",
    "data['sentiment'] = data.sentiment_score.apply(determine_sentiment)"
   ]
  },
  {
   "cell_type": "code",
   "execution_count": 77,
   "id": "4668d5dc-eaf4-4808-b723-05f00792656d",
   "metadata": {},
   "outputs": [
    {
     "data": {
      "text/html": [
       "<div>\n",
       "<style scoped>\n",
       "    .dataframe tbody tr th:only-of-type {\n",
       "        vertical-align: middle;\n",
       "    }\n",
       "\n",
       "    .dataframe tbody tr th {\n",
       "        vertical-align: top;\n",
       "    }\n",
       "\n",
       "    .dataframe thead th {\n",
       "        text-align: right;\n",
       "    }\n",
       "</style>\n",
       "<table border=\"1\" class=\"dataframe\">\n",
       "  <thead>\n",
       "    <tr style=\"text-align: right;\">\n",
       "      <th></th>\n",
       "      <th>combined</th>\n",
       "      <th>sentiment_score</th>\n",
       "      <th>sentiment</th>\n",
       "    </tr>\n",
       "  </thead>\n",
       "  <tbody>\n",
       "    <tr>\n",
       "      <th>0</th>\n",
       "      <td>There Were 2 Mass Shootings In Texas Last Week...</td>\n",
       "      <td>-0.8047</td>\n",
       "      <td>negative</td>\n",
       "    </tr>\n",
       "    <tr>\n",
       "      <th>1</th>\n",
       "      <td>Will Smith Joins Diplo And Nicky Jam For The 2...</td>\n",
       "      <td>0.0000</td>\n",
       "      <td>neutral</td>\n",
       "    </tr>\n",
       "    <tr>\n",
       "      <th>2</th>\n",
       "      <td>Hugh Grant Marries For The First Time At Age 5...</td>\n",
       "      <td>0.3612</td>\n",
       "      <td>positive</td>\n",
       "    </tr>\n",
       "    <tr>\n",
       "      <th>3</th>\n",
       "      <td>Jim Carrey Blasts 'Castrato' Adam Schiff And D...</td>\n",
       "      <td>0.3412</td>\n",
       "      <td>positive</td>\n",
       "    </tr>\n",
       "    <tr>\n",
       "      <th>4</th>\n",
       "      <td>Julianna Margulies Uses Donald Trump Poop Bags...</td>\n",
       "      <td>0.0000</td>\n",
       "      <td>neutral</td>\n",
       "    </tr>\n",
       "    <tr>\n",
       "      <th>...</th>\n",
       "      <td>...</td>\n",
       "      <td>...</td>\n",
       "      <td>...</td>\n",
       "    </tr>\n",
       "    <tr>\n",
       "      <th>200848</th>\n",
       "      <td>RIM CEO Thorsten Heins' 'Significant' Plans Fo...</td>\n",
       "      <td>0.5106</td>\n",
       "      <td>positive</td>\n",
       "    </tr>\n",
       "    <tr>\n",
       "      <th>200849</th>\n",
       "      <td>Maria Sharapova Stunned By Victoria Azarenka I...</td>\n",
       "      <td>0.2732</td>\n",
       "      <td>positive</td>\n",
       "    </tr>\n",
       "    <tr>\n",
       "      <th>200850</th>\n",
       "      <td>Giants Over Patriots, Jets Over Colts Among  M...</td>\n",
       "      <td>0.7635</td>\n",
       "      <td>positive</td>\n",
       "    </tr>\n",
       "    <tr>\n",
       "      <th>200851</th>\n",
       "      <td>Aldon Smith Arrested: 49ers Linebacker Busted ...</td>\n",
       "      <td>-0.4767</td>\n",
       "      <td>negative</td>\n",
       "    </tr>\n",
       "    <tr>\n",
       "      <th>200852</th>\n",
       "      <td>Dwight Howard Rips Teammates After Magic Loss ...</td>\n",
       "      <td>-0.4215</td>\n",
       "      <td>negative</td>\n",
       "    </tr>\n",
       "  </tbody>\n",
       "</table>\n",
       "<p>200840 rows × 3 columns</p>\n",
       "</div>"
      ],
      "text/plain": [
       "                                                 combined  sentiment_score  \\\n",
       "0       There Were 2 Mass Shootings In Texas Last Week...          -0.8047   \n",
       "1       Will Smith Joins Diplo And Nicky Jam For The 2...           0.0000   \n",
       "2       Hugh Grant Marries For The First Time At Age 5...           0.3612   \n",
       "3       Jim Carrey Blasts 'Castrato' Adam Schiff And D...           0.3412   \n",
       "4       Julianna Margulies Uses Donald Trump Poop Bags...           0.0000   \n",
       "...                                                   ...              ...   \n",
       "200848  RIM CEO Thorsten Heins' 'Significant' Plans Fo...           0.5106   \n",
       "200849  Maria Sharapova Stunned By Victoria Azarenka I...           0.2732   \n",
       "200850  Giants Over Patriots, Jets Over Colts Among  M...           0.7635   \n",
       "200851  Aldon Smith Arrested: 49ers Linebacker Busted ...          -0.4767   \n",
       "200852  Dwight Howard Rips Teammates After Magic Loss ...          -0.4215   \n",
       "\n",
       "       sentiment  \n",
       "0       negative  \n",
       "1        neutral  \n",
       "2       positive  \n",
       "3       positive  \n",
       "4        neutral  \n",
       "...          ...  \n",
       "200848  positive  \n",
       "200849  positive  \n",
       "200850  positive  \n",
       "200851  negative  \n",
       "200852  negative  \n",
       "\n",
       "[200840 rows x 3 columns]"
      ]
     },
     "execution_count": 77,
     "metadata": {},
     "output_type": "execute_result"
    }
   ],
   "source": [
    "data[['combined', 'sentiment_score', 'sentiment']]"
   ]
  },
  {
   "cell_type": "code",
   "execution_count": 82,
   "id": "2cd9b840-191b-49cd-9c7f-3a7829e2c3c8",
   "metadata": {},
   "outputs": [],
   "source": [
    "def preprocessing(text):\n",
    "    stop_words = sklearn.feature_extraction.text.ENGLISH_STOP_WORDS\n",
    "    \n",
    "    text.lower()\n",
    "    text = re.sub('[' + string.punctuation + '0-9\\\\r\\\\t\\\\n]', ' ', text)\n",
    "    tokens = nltk.word_tokenize(text)\n",
    "    \n",
    "    tokens = [tok for tok in tokens if len(tok) > 2]  # remove short words that don't add much in the way of meaning\n",
    "    tokens = [tok for tok in tokens if tok not in stop_words]\n",
    "    \n",
    "    p_stemmer = PorterStemmer()\n",
    "    \n",
    "    return [p_stemmer.stem(word) for word in tokens]\n",
    "    "
   ]
  },
  {
   "cell_type": "code",
   "execution_count": 83,
   "id": "ed189a9b-54a3-4e65-aaad-681002abb618",
   "metadata": {},
   "outputs": [],
   "source": [
    "data['tokenized'] = data['combined'].apply(preprocessing)"
   ]
  },
  {
   "cell_type": "code",
   "execution_count": 84,
   "id": "c3623b94-5111-4ed5-8956-ad5372384046",
   "metadata": {},
   "outputs": [
    {
     "data": {
      "text/plain": [
       "['there',\n",
       " 'were',\n",
       " 'mass',\n",
       " 'shoot',\n",
       " 'texa',\n",
       " 'last',\n",
       " 'week',\n",
       " 'but',\n",
       " 'onli',\n",
       " 'she',\n",
       " 'left',\n",
       " 'husband',\n",
       " 'kill',\n",
       " 'children',\n",
       " 'just',\n",
       " 'day',\n",
       " 'america']"
      ]
     },
     "execution_count": 84,
     "metadata": {},
     "output_type": "execute_result"
    }
   ],
   "source": [
    "data.tokenized[0]"
   ]
  },
  {
   "cell_type": "markdown",
   "id": "b20856ec-d1ac-49fe-9afb-e9a828d337f7",
   "metadata": {},
   "source": [
    "## EDA"
   ]
  },
  {
   "cell_type": "code",
   "execution_count": 18,
   "id": "7d722466-560d-4e69-ae50-85440a45e7db",
   "metadata": {},
   "outputs": [],
   "source": [
    "data.drop_duplicates(inplace=True)  # just in case there are duplicates"
   ]
  },
  {
   "cell_type": "code",
   "execution_count": 19,
   "id": "ce3fc7cd-252a-4f9d-87bc-70386a615983",
   "metadata": {},
   "outputs": [
    {
     "data": {
      "text/plain": [
       "200840"
      ]
     },
     "execution_count": 19,
     "metadata": {},
     "output_type": "execute_result"
    }
   ],
   "source": [
    "len(data)"
   ]
  },
  {
   "cell_type": "code",
   "execution_count": 20,
   "id": "1de59177-2a3c-4c32-9ecb-cb1acde7ee9a",
   "metadata": {},
   "outputs": [
    {
     "data": {
      "text/plain": [
       "category                 41\n",
       "headline             199344\n",
       "authors               27993\n",
       "link                 200812\n",
       "short_description    178353\n",
       "date                   2309\n",
       "dtype: int64"
      ]
     },
     "execution_count": 20,
     "metadata": {},
     "output_type": "execute_result"
    }
   ],
   "source": [
    "data.nunique()"
   ]
  },
  {
   "cell_type": "code",
   "execution_count": null,
   "id": "23caf1d5-0c78-4b9d-b567-440952f97719",
   "metadata": {},
   "outputs": [],
   "source": []
  }
 ],
 "metadata": {
  "kernelspec": {
   "display_name": "Python 3 (ipykernel)",
   "language": "python",
   "name": "python3"
  },
  "language_info": {
   "codemirror_mode": {
    "name": "ipython",
    "version": 3
   },
   "file_extension": ".py",
   "mimetype": "text/x-python",
   "name": "python",
   "nbconvert_exporter": "python",
   "pygments_lexer": "ipython3",
   "version": "3.9.7"
  }
 },
 "nbformat": 4,
 "nbformat_minor": 5
}
